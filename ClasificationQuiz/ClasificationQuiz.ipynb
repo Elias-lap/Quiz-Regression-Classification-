{
  "nbformat": 4,
  "nbformat_minor": 0,
  "metadata": {
    "colab": {
      "provenance": []
    },
    "kernelspec": {
      "name": "python3",
      "display_name": "Python 3"
    },
    "language_info": {
      "name": "python"
    }
  },
  "cells": [
    {
      "cell_type": "markdown",
      "source": [
        "https://www.kaggle.com/datasets/taweilo/loan-approval-classification-data **Description and link of the dataset to download**"
      ],
      "metadata": {
        "id": "EqR6M2jCuBNz"
      }
    },
    {
      "cell_type": "code",
      "execution_count": null,
      "metadata": {
        "id": "vxtiJLWgt6kn"
      },
      "outputs": [],
      "source": []
    }
  ]
}