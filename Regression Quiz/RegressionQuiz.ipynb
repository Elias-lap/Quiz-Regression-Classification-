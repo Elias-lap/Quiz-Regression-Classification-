{
  "cells": [
    {
      "cell_type": "markdown",
      "metadata": {
        "id": "8UPX833wtBmh"
      },
      "source": [
        "# Regression Quiz"
      ]
    },
    {
      "cell_type": "markdown",
      "metadata": {
        "id": "bRzaq7SotGb_"
      },
      "source": [
        "https://drive.google.com/file/d/12njuYiHbyaXxOO7g_gCVTOCoOUeeqg8j/view?usp=sharing  **Link of the Dataset**"
      ]
    },
    {
      "cell_type": "markdown",
      "metadata": {
        "id": "dHGgzJohsy0S"
      },
      "source": [
        "Data Dictionary (column description)\n",
        "- Gender: Gender of the student (male/female)\n",
        "- EthnicGroup: Ethnic group of the student (group A to E)\n",
        "- ParentEduc: Parent(s) education background (from some_highschool to master's degree)\n",
        "- LunchType: School lunch type (standard or free/reduced)\n",
        "- TestPrep: Test preparation course followed (completed or none)\n",
        "- ParentMaritalStatus: Parent(s) marital status (married/single/widowed/divorced)\n",
        "- PracticeSport: How often the student parctice sport (never/sometimes/regularly))\n",
        "- IsFirstChild: If the child is first child in the family or not (yes/no)\n",
        "- NrSiblings: Number of siblings the student has (0 to 7)\n",
        "- TransportMeans: Means of transport to school (schoolbus/private)\n",
        "- WklyStudyHours: Weekly self-study hours(less that 5hrs; between 5 and 10hrs; more than 10hrs)\n",
        "- MathScore: math test score(0-100)\n",
        "- ReadingScore: reading test score(0-100)\n",
        "- WritingScore: writing test score(0-100)"
      ]
    },
    {
      "cell_type": "code",
      "execution_count": 12,
      "metadata": {},
      "outputs": [
        {
          "name": "stdout",
          "output_type": "stream",
          "text": [
            "   Unnamed: 0  Gender EthnicGroup          ParentEduc     LunchType TestPrep  \\\n",
            "0           0  female         NaN   bachelor's degree      standard     none   \n",
            "1           1  female     group C        some college      standard      NaN   \n",
            "2           2  female     group B     master's degree      standard     none   \n",
            "3           3    male     group A  associate's degree  free/reduced     none   \n",
            "4           4    male     group C        some college      standard     none   \n",
            "\n",
            "  ParentMaritalStatus PracticeSport IsFirstChild  NrSiblings TransportMeans  \\\n",
            "0             married     regularly          yes         3.0     school_bus   \n",
            "1             married     sometimes          yes         0.0            NaN   \n",
            "2              single     sometimes          yes         4.0     school_bus   \n",
            "3             married         never           no         1.0            NaN   \n",
            "4             married     sometimes          yes         0.0     school_bus   \n",
            "\n",
            "  WklyStudyHours  MathScore  ReadingScore  WritingScore  \n",
            "0            < 5         71            71            74  \n",
            "1         5 - 10         69            90            88  \n",
            "2            < 5         87            93            91  \n",
            "3         5 - 10         45            56            42  \n",
            "4         5 - 10         76            78            75  \n",
            "Unnamed: 0                0\n",
            "Gender                    0\n",
            "EthnicGroup            1840\n",
            "ParentEduc             1845\n",
            "LunchType                 0\n",
            "TestPrep               1830\n",
            "ParentMaritalStatus    1190\n",
            "PracticeSport           631\n",
            "IsFirstChild            904\n",
            "NrSiblings             1572\n",
            "TransportMeans         3134\n",
            "WklyStudyHours          955\n",
            "MathScore                 0\n",
            "ReadingScore              0\n",
            "WritingScore              0\n",
            "dtype: int64\n"
          ]
        }
      ],
      "source": [
        "import pandas as pd\n",
        "import numpy as np\n",
        "\n",
        "df = pd.read_csv(\"Expanded_data_with_more_features.csv\")\n",
        "\n",
        "print(df.head())\n",
        "# Shape (rows, columns)\n",
        "# print(\"Shape:\", df.shape)\n",
        "# print(df.info())\n",
        "print(df.isna().sum())\n",
        "# cat_cols = ['Gender','EthnicGroup','ParentEduc','LunchType','TestPrep',\n",
        "#             'ParentMaritalStatus','PracticeSport','IsFirstChild',\n",
        "#             'TransportMeans','WklyStudyHours']\n",
        "# for col in cat_cols:\n",
        "#     print(df[col].value_counts())"
      ]
    },
    {
      "cell_type": "code",
      "execution_count": null,
      "metadata": {},
      "outputs": [
        {
          "name": "stdout",
          "output_type": "stream",
          "text": [
            "MAE : 4.363873748587449\n",
            "RMSE: 5.461082843513037\n",
            "R²  : 0.8714673223522429\n",
            "Any NaNs after preprocessing? -> False\n"
          ]
        }
      ],
      "source": [
        "from sklearn.model_selection import train_test_split\n",
        "from sklearn.compose import ColumnTransformer\n",
        "from sklearn.preprocessing import OrdinalEncoder, OneHotEncoder, StandardScaler\n",
        "from sklearn.impute import SimpleImputer\n",
        "from sklearn.pipeline import Pipeline\n",
        "from sklearn.linear_model import LinearRegression\n",
        "from sklearn.metrics import mean_absolute_error, root_mean_squared_error, r2_score\n",
        "\n",
        "# --- 1) Target / Features\n",
        "y = df['MathScore']\n",
        "X = df.drop(columns=['MathScore', 'Unnamed: 0'], errors='ignore')\n",
        "\n",
        "# --- 2) Column groups (matching your printed values)\n",
        "ordinal_cols = ['ParentEduc', 'WklyStudyHours', 'PracticeSport']\n",
        "ordinal_categories = [\n",
        "    [\"some high school\", \"high school\", \"some college\",\n",
        "     \"associate's degree\", \"bachelor's degree\", \"master's degree\"],  # ParentEduc\n",
        "    [\"< 5\", \"5 - 10\", \"> 10\"],                                        # WklyStudyHours\n",
        "    [\"never\", \"sometimes\", \"regularly\"]                               # PracticeSport\n",
        "]\n",
        "\n",
        "binary_cols = ['Gender', 'LunchType', 'TestPrep', 'IsFirstChild', 'TransportMeans']\n",
        "binary_categories = [\n",
        "    [\"female\", \"male\"],            # Gender\n",
        "    [\"free/reduced\", \"standard\"],  # LunchType\n",
        "    [\"none\", \"completed\"],         # TestPrep\n",
        "    [\"no\", \"yes\"],                 # IsFirstChild\n",
        "    [\"school_bus\", \"private\"]      # TransportMeans\n",
        "]\n",
        "\n",
        "nominal_cols = ['EthnicGroup', 'ParentMaritalStatus']\n",
        "numeric_cols = ['NrSiblings', 'ReadingScore', 'WritingScore']\n",
        "\n",
        "# --- 3) Split\n",
        "X_train, X_test, y_train, y_test = train_test_split(\n",
        "    X, y, test_size=0.2, random_state=42, stratify=None\n",
        ")\n",
        "\n",
        "# --- 4) Preprocessing pipelines (handle NaNs only here)\n",
        "ordinal_preprocessor = Pipeline(steps=[\n",
        "    ('imputer', SimpleImputer(strategy='most_frequent')),\n",
        "    ('encoder', OrdinalEncoder(\n",
        "        categories=ordinal_categories,\n",
        "        handle_unknown='use_encoded_value',\n",
        "        unknown_value=-1\n",
        "    ))\n",
        "])\n",
        "\n",
        "binary_preprocessor = Pipeline(steps=[\n",
        "    ('imputer', SimpleImputer(strategy='most_frequent')),\n",
        "    ('encoder', OrdinalEncoder(\n",
        "        categories=binary_categories,\n",
        "        handle_unknown='use_encoded_value',\n",
        "        unknown_value=-1\n",
        "    ))\n",
        "])\n",
        "\n",
        "nominal_preprocessor = Pipeline(steps=[\n",
        "    ('imputer', SimpleImputer(strategy='most_frequent')),\n",
        "    ('encoder', OneHotEncoder(handle_unknown='ignore', drop='first'))\n",
        "])\n",
        "\n",
        "numeric_preprocessor = Pipeline(steps=[\n",
        "    ('imputer', SimpleImputer(strategy='median')),\n",
        "    ('scaler', StandardScaler())\n",
        "])\n",
        "\n",
        "preprocessor = ColumnTransformer(\n",
        "    transformers=[\n",
        "        ('ord', ordinal_preprocessor, ordinal_cols),\n",
        "        ('bin', binary_preprocessor, binary_cols),\n",
        "        ('nom', nominal_preprocessor, nominal_cols),\n",
        "        ('num', numeric_preprocessor, numeric_cols)\n",
        "    ],\n",
        "    remainder='drop'\n",
        ")\n",
        "\n",
        "# --- 5) Model pipeline\n",
        "model = Pipeline(steps=[\n",
        "    ('prep', preprocessor),\n",
        "    ('reg', LinearRegression())\n",
        "])\n",
        "\n",
        "# --- 6) Train & Evaluate\n",
        "model.fit(X_train, y_train)\n",
        "y_pred = model.predict(X_test)\n",
        "\n",
        "print(\"MAE :\", mean_absolute_error(y_test, y_pred))\n",
        "print(\"RMSE:\", root_mean_squared_error(y_test, y_pred))\n",
        "print(\"R²  :\", r2_score(y_test, y_pred))\n"
      ]
    }
  ],
  "metadata": {
    "colab": {
      "provenance": []
    },
    "kernelspec": {
      "display_name": "base",
      "language": "python",
      "name": "python3"
    },
    "language_info": {
      "codemirror_mode": {
        "name": "ipython",
        "version": 3
      },
      "file_extension": ".py",
      "mimetype": "text/x-python",
      "name": "python",
      "nbconvert_exporter": "python",
      "pygments_lexer": "ipython3",
      "version": "3.13.5"
    }
  },
  "nbformat": 4,
  "nbformat_minor": 0
}
